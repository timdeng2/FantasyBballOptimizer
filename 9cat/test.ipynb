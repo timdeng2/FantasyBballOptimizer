{
 "cells": [
  {
   "cell_type": "code",
   "execution_count": null,
   "id": "cb892413",
   "metadata": {},
   "outputs": [],
   "source": [
    "# for testing API\n",
    "from dotenv import load_dotenv\n",
    "import os\n",
    "\n",
    "load_dotenv\n",
    "\n",
    "s2 = os.getenv('TEST_S2')\n",
    "swid = os.getenv('TEST_SWID')\n",
    "year = int(os.getenv('TEST_YEAR'))\n",
    "league_id = int(os.getenv('TEST_LEAGUE_ID'))\n",
    "\n",
    "import importlib\n",
    "import fantasy_page\n",
    "importlib.reload(fantasy_page)\n",
    "from fantasy_page import FantasyPage\n",
    "fp = FantasyPage(league_id, s2, swid, year)"
   ]
  },
  {
   "cell_type": "code",
   "execution_count": null,
   "id": "d104e4b3",
   "metadata": {},
   "outputs": [],
   "source": [
    "fp.scoreboard"
   ]
  },
  {
   "cell_type": "code",
   "execution_count": null,
   "id": "25bcc0b9",
   "metadata": {},
   "outputs": [],
   "source": [
    "for category in ['3PM','AST','BLK','PTS','REB','STL','TO']:\n",
    "    print(f\"{category} : {fp.get_projected_stat(category, 8)} - {fp.get_projected_stat(category, 5)}\")\n",
    "for category in ['FG%','FT%']:\n",
    "    print(f\"{category} : {fp.get_projected_percentage_stat(category, 8)[2]} - {fp.get_projected_percentage_stat(category, 5)[2]}\")\n"
   ]
  },
  {
   "cell_type": "code",
   "execution_count": null,
   "id": "ed5b1c4f",
   "metadata": {},
   "outputs": [],
   "source": [
    "for matchup in fp.matchups:\n",
    "    x, y = fp.get_projected_score(matchup)\n",
    "    print(f\"{fp.get_team_name(matchup[0])} ({x}) - ({y}) {fp.get_team_name(matchup[1])}\")"
   ]
  }
 ],
 "metadata": {
  "kernelspec": {
   "display_name": "side-projects",
   "language": "python",
   "name": "python3"
  },
  "language_info": {
   "codemirror_mode": {
    "name": "ipython",
    "version": 3
   },
   "file_extension": ".py",
   "mimetype": "text/x-python",
   "name": "python",
   "nbconvert_exporter": "python",
   "pygments_lexer": "ipython3",
   "version": "3.11.14"
  }
 },
 "nbformat": 4,
 "nbformat_minor": 5
}
