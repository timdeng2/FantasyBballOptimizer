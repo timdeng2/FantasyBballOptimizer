{
 "cells": [
  {
   "cell_type": "code",
   "execution_count": 1,
   "id": "752e14c3",
   "metadata": {},
   "outputs": [],
   "source": [
    "import sys, os\n",
    "\n",
    "# Add the project root directory (one level up from folder1)\n",
    "root_dir = os.path.abspath(os.path.join(os.getcwd(), '..'))\n",
    "sys.path.append(root_dir)\n",
    "\n",
    "from espn_api.basketball import League\n",
    "s2 = \"AEC2o31PhZBS55JyIt%2BRkbDyepgSq%2FJlk6MJVa6jKcXejeSY2SPFrp0KUmhbfnN3ZZVFvhMNNNDsHPSUPhcDSqkZhJ1D8K3W5tH79Tq84GcYno0Z4P8Qy9w5GG3Xzt11p%2BWVbVSoiPkArpSFCiuh0uWxWy0jyOoocy0AYtGeKwRUELeJvmO0bD%2BgTh8XxCX%2Fvvawcj0vM1Ev1zUtu3l%2FtFD7oIkFffMIPDCyHHbjtaKbu3mqlx2O5WmIwS0ysF9UhTpXxHKFRKrYS9WeAHZlVZd14Ca6IMBA3vIEyf8pFtg%2Bj2GKfBSyKnV58S7K6FYUnpf7nVoUOKoL%2F7cp4%2BSlZHZq\"\n",
    "swid =\"{B6A4D408-86A4-4E2E-AF40-F85B690F8605}\"\n",
    "year = 2026\n",
    "league_id = 1172852290\n",
    "\n",
    "league = League(league_id=league_id, year=year, espn_s2=s2, swid=swid, debug=False)\n",
    "\n",
    "free_agents = league.free_agents(size=300)\n",
    "teams = league.teams"
   ]
  },
  {
   "cell_type": "code",
   "execution_count": 2,
   "id": "1969b8c9",
   "metadata": {},
   "outputs": [
    {
     "name": "stdout",
     "output_type": "stream",
     "text": [
      "Victor Wembanyama {'PTS': 24.26086956521739, 'BLK': 3.8260869565217392, 'STL': 1.1304347826086956, 'AST': 3.652173913043478, 'OREB': 1.7826086956521738, 'DREB': 9.217391304347826, 'REB': 11.0, 'EJ': 0.0, 'FF': 0.0, 'PF': 2.282608695652174, 'TF': 0.043478260869565216, 'TO': 3.239130434782609, 'DQ': 0.0, 'FGM': 8.869565217391305, 'FGA': 18.630434782608695, 'FTM': 3.4347826086956523, 'FTA': 4.108695652173913, '3PM': 3.0869565217391304, '3PA': 8.76086956521739, 'FG%': 0.47607935, 'FT%': 0.83597884, '3PT%': 0.35235732, 'AFG%': 0.55892649, 'FGMI': 9.76086956521739, 'FTMI': 0.6739130434782609, '3PMI': 5.673913043478261, 'APG': 3.65217391, 'BPG': 3.82608696, 'MPG': 33.17391304, 'PPG': 24.26086957, 'RPG': 11.0, 'SPG': 1.13043478, 'TOPG': 3.23913043, '3PG': 3.08695652, 'PPM': 0.73132372, 'A/TO': 1.12751678, 'STR': 0.34899329, 'DD': 0.6086956521739131, 'TD': 0.021739130434782608, 'QD': 0.0, 'MIN': 33.17391304347826, 'GS': 1.0, 'GP': 46.0, 'TW': 0.45652173913043476, 'FTR': 0.22053676, '45': -1}\n"
     ]
    }
   ],
   "source": [
    "print(teams[0].roster[0].name, teams[0].roster[0].average_stats)"
   ]
  },
  {
   "cell_type": "code",
   "execution_count": null,
   "id": "4c23c246",
   "metadata": {},
   "outputs": [],
   "source": [
    "print(free_agents[0].stats)\n",
    "print(free_agents[0].schedule)"
   ]
  },
  {
   "cell_type": "code",
   "execution_count": null,
   "id": "29bf4a5e",
   "metadata": {},
   "outputs": [],
   "source": [
    "print(teams[0].roster[0].name, teams[0].roster[0].stats)"
   ]
  },
  {
   "cell_type": "code",
   "execution_count": null,
   "id": "a691fc8f",
   "metadata": {},
   "outputs": [],
   "source": [
    "for team in teams:\n",
    "    print(team.team_name)\n",
    "    print(\"---------------------------------------------------------------------\")\n",
    "    team_stats = {}\n",
    "    for player in team.roster:\n",
    "        data = {}\n",
    "        print(player.stats)\n",
    "        if player.stats[f'{year}_total']['applied_total'] == 0 and player.stats[f'{year}_total']['applied_avg'] == 0:\n",
    "            data = {\n",
    "                'FGM' : player.stats[f'{year}_projected']['avg']['FGM'],\n",
    "                'FGA' : player.stats[f'{year}_projected']['avg']['FGA'],\n",
    "                'FTA' : player.stats[f'{year}_projected']['avg']['FTA'],\n",
    "                'FTM' : player.stats[f'{year}_projected']['avg']['FTM'],\n",
    "                '3PM' : player.stats[f'{year}_projected']['avg']['3PM'],\n",
    "                'REB' : player.stats[f'{year}_projected']['avg']['REB'],\n",
    "                'AST' : player.stats[f'{year}_projected']['avg']['AST'],\n",
    "                'STL' : player.stats[f'{year}_projected']['avg']['STL'],\n",
    "                'BLK' : player.stats[f'{year}_projected']['avg']['BLK'],\n",
    "                'TO'  : player.stats[f'{year}_projected']['avg']['TO'],\n",
    "                'PTS' : player.stats[f'{year}_projected']['avg']['PTS']\n",
    "            }\n",
    "        player_stats = {player.playerId: data}\n",
    "        team_stats[team.team_name] = player_stats\n",
    "        print(f\"{player.name} ({player.playerId}) - {data}\")"
   ]
  },
  {
   "cell_type": "code",
   "execution_count": null,
   "id": "2d5a0217",
   "metadata": {},
   "outputs": [],
   "source": [
    "from ..espn_api.basketball import League"
   ]
  }
 ],
 "metadata": {
  "kernelspec": {
   "display_name": "side-projects",
   "language": "python",
   "name": "python3"
  },
  "language_info": {
   "codemirror_mode": {
    "name": "ipython",
    "version": 3
   },
   "file_extension": ".py",
   "mimetype": "text/x-python",
   "name": "python",
   "nbconvert_exporter": "python",
   "pygments_lexer": "ipython3",
   "version": "3.11.13"
  }
 },
 "nbformat": 4,
 "nbformat_minor": 5
}
