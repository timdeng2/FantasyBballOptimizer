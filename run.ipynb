{
 "cells": [
  {
   "cell_type": "code",
   "execution_count": 1,
   "metadata": {},
   "outputs": [],
   "source": [
    "from getpass import getpass\n",
    "\n",
    "login = input(\"ESPN Login: \")\n",
    "password = getpass(\"Password: \")"
   ]
  },
  {
   "cell_type": "code",
   "execution_count": 2,
   "metadata": {},
   "outputs": [
    {
     "data": {
      "text/plain": [
       "<module 'ESPN.scaps' from 'c:\\\\Users\\\\hyper\\\\OneDrive\\\\Desktop\\\\1projects\\\\ftsybball\\\\ESPN\\\\scaps.py'>"
      ]
     },
     "execution_count": 2,
     "metadata": {},
     "output_type": "execute_result"
    }
   ],
   "source": [
    "import fantasy\n",
    "from ESPN import scaps as sp\n",
    "import importlib\n",
    "importlib.reload(fantasy)\n",
    "importlib.reload(sp)"
   ]
  },
  {
   "cell_type": "code",
   "execution_count": null,
   "metadata": {},
   "outputs": [],
   "source": [
    "#get free agents as csv file\n",
    "sp.get_free_agents(login, password)"
   ]
  },
  {
   "cell_type": "code",
   "execution_count": 3,
   "metadata": {},
   "outputs": [
    {
     "name": "stdout",
     "output_type": "stream",
     "text": [
      "['Tyrese Maxey', 'Josh Hart', 'Anthony Edwards', 'Player', 'Alperen Sengun', 'Caris LeVert', 'Domantas Sabonis', \"De'Aaron Fox\", 'Paolo Banchero', 'Naz Reid', 'Devin Vassell', 'RJ Barrett', 'Immanuel Quickley', 'OG Anunoby']\n",
      "['PHI', 'NYK', 'MIN', 'HOU', 'CLE', 'SAC', 'SAC', 'ORL', 'MIN', 'SAS', 'TOR', 'TOR', 'UTA']\n"
     ]
    }
   ],
   "source": [
    "#gets current roster as tuple of two lists(1 of players, 1 of the team of player)\n",
    "x = sp.my_team(login, password)\n",
    "teams_list = x[0]\n",
    "teams = x[1]\n",
    "print(teams_list)\n",
    "print(teams)\n",
    "split_index = list(map(int, input(\"Enter multiple values separated by a space of swappable players(0 indexed): \").split()))"
   ]
  },
  {
   "cell_type": "code",
   "execution_count": 4,
   "metadata": {},
   "outputs": [
    {
     "data": {
      "text/plain": [
       "['HOU', 'CLE']"
      ]
     },
     "execution_count": 4,
     "metadata": {},
     "output_type": "execute_result"
    }
   ],
   "source": [
    "swappables = []\n",
    "swaps = []\n",
    "for idx in split_index:\n",
    "    swappables.append([teams[idx]])\n",
    "    swaps.append(teams[idx])\n",
    "keep_list = []\n",
    "for i in range(len(teams)):\n",
    "    if i not in split_index:\n",
    "        keep_list.append(teams[i])\n",
    "swaps\n"
   ]
  },
  {
   "cell_type": "code",
   "execution_count": 5,
   "metadata": {},
   "outputs": [
    {
     "name": "stdout",
     "output_type": "stream",
     "text": [
      "List of keeps: ['PHI', 'NYK', 'MIN', 'SAC', 'SAC', 'ORL', 'MIN', 'SAS', 'TOR', 'TOR', 'UTA']\n",
      "List of swaps: ['HOU', 'CLE']\n"
     ]
    }
   ],
   "source": [
    "removals = sp.filter_df(25, swaps)\n",
    "print(f\"List of keeps: {keep_list}\")\n",
    "print(f\"List of swaps: {swaps}\")"
   ]
  },
  {
   "cell_type": "code",
   "execution_count": null,
   "metadata": {},
   "outputs": [],
   "source": [
    "#Matchup_acquisitions, matchups_already_used, year, month, date\n",
    "fantasy.final(7, 1, 2024, 3, 11, swappables, keep_list, removals)"
   ]
  },
  {
   "cell_type": "code",
   "execution_count": 30,
   "metadata": {},
   "outputs": [
    {
     "name": "stdout",
     "output_type": "stream",
     "text": [
      "MAX 47\n",
      "On 2024-03-11\n",
      "---------------\n",
      "Player 0 (HOU) should swap to one of these teams: ['SAS'] ['Keldon Johnson'] (+1)\n",
      "Player 1 (CLE) should do nothing\n",
      "On 2024-03-12\n",
      "---------------\n",
      "Player 0 (['SAS']) should do nothing\n",
      "Player 1 (CLE) should do nothing\n",
      "On 2024-03-13\n",
      "---------------\n",
      "Player 0 (['SAS']) should swap to one of these teams: ['BKN'] ['Cameron Johnson'] (+1)\n",
      "Player 1 (CLE) should do nothing\n",
      "On 2024-03-14\n",
      "---------------\n",
      "Player 0 (['BKN']) should swap to one of these teams: ['LAC'] ['Ivica Zubac'] (+1)\n",
      "Player 1 (CLE) should swap to one of these teams: ['LAC'] ['Ivica Zubac'] (+1)\n",
      "On 2024-03-15\n",
      "---------------\n",
      "Player 0 (['LAC']) should do nothing\n",
      "Player 1 (['LAC']) should do nothing\n",
      "On 2024-03-16\n",
      "---------------\n",
      "Player 0 (['LAC']) should swap to one of these teams: ['BKN'] ['Cameron Johnson'] (+1)\n",
      "Player 1 (['LAC']) should swap to one of these teams: ['BKN'] ['Cameron Johnson'] (+1)\n",
      "On 2024-03-17\n",
      "---------------\n",
      "Player 0 (['BKN']) should do nothing\n",
      "Player 1 (['BKN']) should do nothing\n"
     ]
    }
   ],
   "source": [
    "import pandas as pd\n",
    "importlib.reload(fantasy)\n",
    "\n",
    "df = pd.read_csv(\"2024-03-11.csv\") #change to desired date\n",
    "del df[df.columns[0]]\n",
    "dates = list(df.columns)\n",
    "fantasy.generate_random(dates, swappables)"
   ]
  }
 ],
 "metadata": {
  "kernelspec": {
   "display_name": "Python 3",
   "language": "python",
   "name": "python3"
  },
  "language_info": {
   "codemirror_mode": {
    "name": "ipython",
    "version": 3
   },
   "file_extension": ".py",
   "mimetype": "text/x-python",
   "name": "python",
   "nbconvert_exporter": "python",
   "pygments_lexer": "ipython3",
   "version": "3.10.5"
  }
 },
 "nbformat": 4,
 "nbformat_minor": 2
}
