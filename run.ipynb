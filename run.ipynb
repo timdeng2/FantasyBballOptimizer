{
 "cells": [
  {
   "cell_type": "code",
   "execution_count": 1,
   "metadata": {},
   "outputs": [],
   "source": [
    "from getpass import getpass\n",
    "\n",
    "login = input(\"ESPN Login: \")\n",
    "password = getpass(\"Password: \")"
   ]
  },
  {
   "cell_type": "code",
   "execution_count": 7,
   "metadata": {},
   "outputs": [
    {
     "data": {
      "text/plain": [
       "<module 'ESPN.scaps' from 'c:\\\\Users\\\\hyper\\\\OneDrive\\\\Desktop\\\\1projects\\\\ftsybball\\\\ESPN\\\\scaps.py'>"
      ]
     },
     "execution_count": 7,
     "metadata": {},
     "output_type": "execute_result"
    }
   ],
   "source": [
    "import fantasy\n",
    "from ESPN import scaps as sp\n",
    "import importlib\n",
    "importlib.reload(fantasy)\n",
    "importlib.reload(sp)"
   ]
  },
  {
   "cell_type": "code",
   "execution_count": 9,
   "metadata": {},
   "outputs": [
    {
     "name": "stdout",
     "output_type": "stream",
     "text": [
      "Brandon Ingram\n",
      "LaMelo Ball\n",
      "Trae Young\n",
      "Jordan Poole\n",
      "Josh Giddey\n",
      "Scottie Barnes\n",
      "Keegan Murray\n",
      "Tyler Herro\n",
      "Keldon Johnson\n",
      "John Collins\n",
      "Alperen Sengun\n",
      "Karl-Anthony Towns\n",
      "Jerami Grant\n",
      "Buddy Hield\n",
      "OG Anunoby\n",
      "Walker Kessler\n",
      "Spencer Dinwiddie\n",
      "RJ Barrett\n",
      "Russell Westbrook\n",
      "Draymond Green\n",
      "Jordan Clarkson\n",
      "P.J. Washington\n",
      "Jakob Poeltl\n",
      "Andrew Wiggins\n",
      "Cameron Johnson\n",
      "Zach LaVine\n",
      "Malcolm Brogdon\n",
      "Scoot Henderson\n",
      "Kevin Huerter\n",
      "Marcus Smart\n",
      "Jaden Ivey\n",
      "Wendell Carter Jr.\n",
      "Ja Morant\n",
      "Onyeka Okongwu\n",
      "Kevon Looney\n",
      "Shaedon Sharpe\n",
      "Mark Williams\n",
      "Ausar Thompson\n",
      "Max Strus\n",
      "Bojan Bogdanovic\n",
      "Herbert Jones\n",
      "T.J. McConnell\n",
      "Harrison Barnes\n",
      "Ben Simmons\n",
      "Royce O'Neale\n",
      "Jalen Suggs\n",
      "Kyle Anderson\n",
      "Al Horford\n",
      "Cole Anthony\n",
      "Christian Wood\n",
      "Keyonte George\n",
      "Tim Hardaway Jr.\n",
      "Jaime Jaquez Jr.\n",
      "Gordon Hayward\n",
      "Robert Williams III\n",
      "Jarred Vanderbilt\n",
      "Kentavious Caldwell-Pope\n",
      "Zach Collins\n",
      "Bruce Brown\n",
      "Dereck Lively II\n",
      "Saddiq Bey\n",
      "De'Andre Hunter\n",
      "Mitchell Robinson\n",
      "Luguentz Dort\n",
      "Santi Aldama\n",
      "Vince Williams Jr.\n",
      "Rui Hachimura\n",
      "De'Anthony Melton\n",
      "Duncan Robinson\n",
      "Markelle Fultz\n",
      "Kyle Lowry\n",
      "Paul Reed\n",
      "Dillon Brooks\n",
      "Bennedict Mathurin\n",
      "Brandin Podziemski\n",
      "Nick Richards\n",
      "Andre Drummond\n",
      "Aaron Nesmith\n",
      "Norman Powell\n",
      "Jonathan Isaac\n",
      "Dalano Banton\n",
      "Marvin Bagley III\n",
      "Malik Beasley\n",
      "Jaden McDaniels\n",
      "Tre Mann\n",
      "Vasilije Micic\n",
      "Eric Gordon\n",
      "Obi Toppin\n",
      "Simone Fontecchio\n",
      "Mason Plumlee\n",
      "Kevin Porter Jr.\n",
      "Isaiah Stewart\n",
      "Reggie Jackson\n",
      "Caleb Martin\n",
      "Isaac Okoro\n",
      "Corey Kispert\n",
      "Grant Williams\n",
      "Kemba Walker\n",
      "Bol Bol\n",
      "Steven Adams\n",
      "Moritz Wagner\n",
      "Dorian Finney-Smith\n",
      "Tari Eason\n",
      "Larry Nance Jr.\n",
      "Kevin Love\n",
      "Killian Hayes\n",
      "Xavier Tillman\n",
      "Taylor Hendricks\n",
      "Sam Hauser\n",
      "Seth Curry\n",
      "James Wiseman\n",
      "Bismack Biyombo\n",
      "Jock Landale\n",
      "Lonnie Walker IV\n",
      "Terance Mann\n",
      "Talen Horton-Tucker\n",
      "Gradey Dick\n",
      "Jalen Smith\n",
      "Andrew Nembhard\n",
      "Nickeil Alexander-Walker\n",
      "Georges Niang\n",
      "Cam Whitmore\n",
      "Jake LaRavia\n",
      "Dario Saric\n",
      "Patrick Beverley\n",
      "Bilal Coulibaly\n",
      "Matisse Thybulle\n",
      "Bones Hyland\n",
      "Luke Kennard\n",
      "Cameron Payne\n",
      "Alec Burks\n",
      "Lonzo Ball\n",
      "Patrick Williams\n",
      "Jae Crowder\n",
      "Keon Ellis\n",
      "Miles McBride\n",
      "Richaun Holmes\n",
      "Taurean Prince\n",
      "Josh Richardson\n",
      "Jabari Walker\n",
      "Mo Bamba\n",
      "Anthony Black\n",
      "John Konchar\n",
      "Derrick Rose\n",
      "Dennis Smith Jr.\n",
      "Goga Bitadze\n",
      "Cason Wallace\n",
      "Jarace Walker\n",
      "Dyson Daniels\n",
      "Chris Boucher\n"
     ]
    }
   ],
   "source": [
    "#get free agents as csv file\n",
    "sp.get_free_agents(login, password)"
   ]
  },
  {
   "cell_type": "code",
   "execution_count": 3,
   "metadata": {},
   "outputs": [
    {
     "name": "stdout",
     "output_type": "stream",
     "text": [
      "['Tyrese Maxey', 'Josh Hart', 'Anthony Edwards', 'Player', 'Alperen Sengun', 'Caris LeVert', 'Domantas Sabonis', \"De'Aaron Fox\", 'Paolo Banchero', 'Naz Reid', 'Devin Vassell', 'RJ Barrett', 'Immanuel Quickley', 'OG Anunoby']\n",
      "['PHI', 'NYK', 'MIN', 'HOU', 'CLE', 'SAC', 'SAC', 'ORL', 'MIN', 'SAS', 'TOR', 'TOR', 'UTA']\n"
     ]
    }
   ],
   "source": [
    "#gets current roster as tuple of two lists(1 of players, 1 of the team of player)\n",
    "x = sp.my_team(login, password)\n",
    "teams_list = x[0]\n",
    "teams = x[1]\n",
    "print(teams_list)\n",
    "print(teams)\n",
    "split_index = list(map(int, input(\"Enter multiple values separated by a space of swappable players(0 indexed): \").split()))"
   ]
  },
  {
   "cell_type": "code",
   "execution_count": 4,
   "metadata": {},
   "outputs": [
    {
     "data": {
      "text/plain": [
       "['HOU', 'CLE']"
      ]
     },
     "execution_count": 4,
     "metadata": {},
     "output_type": "execute_result"
    }
   ],
   "source": [
    "swappables = []\n",
    "swaps = []\n",
    "for idx in split_index:\n",
    "    swappables.append([teams[idx]])\n",
    "    swaps.append(teams[idx])\n",
    "keep_list = []\n",
    "for i in range(len(teams)):\n",
    "    if i not in split_index:\n",
    "        keep_list.append(teams[i])\n",
    "swaps\n"
   ]
  },
  {
   "cell_type": "code",
   "execution_count": 5,
   "metadata": {},
   "outputs": [
    {
     "name": "stdout",
     "output_type": "stream",
     "text": [
      "List of keeps: ['PHI', 'NYK', 'MIN', 'SAC', 'SAC', 'ORL', 'MIN', 'SAS', 'TOR', 'TOR', 'UTA']\n",
      "List of swaps: ['HOU', 'CLE']\n"
     ]
    }
   ],
   "source": [
    "removals = sp.filter_df(25)\n",
    "print(f\"List of keeps: {keep_list}\")\n",
    "print(f\"List of swaps: {swaps}\")"
   ]
  },
  {
   "cell_type": "code",
   "execution_count": null,
   "metadata": {},
   "outputs": [],
   "source": [
    "#Matchup_acquisitions, matchups_already_used, year, month, date\n",
    "fantasy.final(7, 1, 2024, 3, 11, swappables, keep_list, removals)"
   ]
  },
  {
   "cell_type": "code",
   "execution_count": 30,
   "metadata": {},
   "outputs": [
    {
     "name": "stdout",
     "output_type": "stream",
     "text": [
      "MAX 47\n",
      "On 2024-03-11\n",
      "---------------\n",
      "Player 0 (HOU) should swap to one of these teams: ['SAS'] ['Keldon Johnson'] (+1)\n",
      "Player 1 (CLE) should do nothing\n",
      "On 2024-03-12\n",
      "---------------\n",
      "Player 0 (['SAS']) should do nothing\n",
      "Player 1 (CLE) should do nothing\n",
      "On 2024-03-13\n",
      "---------------\n",
      "Player 0 (['SAS']) should swap to one of these teams: ['BKN'] ['Cameron Johnson'] (+1)\n",
      "Player 1 (CLE) should do nothing\n",
      "On 2024-03-14\n",
      "---------------\n",
      "Player 0 (['BKN']) should swap to one of these teams: ['LAC'] ['Ivica Zubac'] (+1)\n",
      "Player 1 (CLE) should swap to one of these teams: ['LAC'] ['Ivica Zubac'] (+1)\n",
      "On 2024-03-15\n",
      "---------------\n",
      "Player 0 (['LAC']) should do nothing\n",
      "Player 1 (['LAC']) should do nothing\n",
      "On 2024-03-16\n",
      "---------------\n",
      "Player 0 (['LAC']) should swap to one of these teams: ['BKN'] ['Cameron Johnson'] (+1)\n",
      "Player 1 (['LAC']) should swap to one of these teams: ['BKN'] ['Cameron Johnson'] (+1)\n",
      "On 2024-03-17\n",
      "---------------\n",
      "Player 0 (['BKN']) should do nothing\n",
      "Player 1 (['BKN']) should do nothing\n"
     ]
    }
   ],
   "source": [
    "import pandas as pd\n",
    "importlib.reload(fantasy)\n",
    "\n",
    "df = pd.read_csv(\"2024-03-11.csv\") #change to desired date\n",
    "del df[df.columns[0]]\n",
    "dates = list(df.columns)\n",
    "fantasy.generate_random(dates, swappables)"
   ]
  }
 ],
 "metadata": {
  "kernelspec": {
   "display_name": "Python 3",
   "language": "python",
   "name": "python3"
  },
  "language_info": {
   "codemirror_mode": {
    "name": "ipython",
    "version": 3
   },
   "file_extension": ".py",
   "mimetype": "text/x-python",
   "name": "python",
   "nbconvert_exporter": "python",
   "pygments_lexer": "ipython3",
   "version": "3.10.5"
  }
 },
 "nbformat": 4,
 "nbformat_minor": 2
}
